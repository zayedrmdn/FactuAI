{
 "cells": [
  {
   "cell_type": "code",
   "execution_count": null,
   "id": "0f9e4fcc",
   "metadata": {},
   "outputs": [],
   "source": [
    "!.\\venv\\Scripts\\activate"
   ]
  },
  {
   "cell_type": "code",
   "execution_count": 2,
   "id": "021765d1",
   "metadata": {},
   "outputs": [
    {
     "name": "stdout",
     "output_type": "stream",
     "text": [
      "(18369, 16)\n"
     ]
    },
    {
     "data": {
      "text/html": [
       "<div>\n",
       "<style scoped>\n",
       "    .dataframe tbody tr th:only-of-type {\n",
       "        vertical-align: middle;\n",
       "    }\n",
       "\n",
       "    .dataframe tbody tr th {\n",
       "        vertical-align: top;\n",
       "    }\n",
       "\n",
       "    .dataframe thead th {\n",
       "        text-align: right;\n",
       "    }\n",
       "</style>\n",
       "<table border=\"1\" class=\"dataframe\">\n",
       "  <thead>\n",
       "    <tr style=\"text-align: right;\">\n",
       "      <th></th>\n",
       "      <th>id</th>\n",
       "      <th>label</th>\n",
       "      <th>statement</th>\n",
       "      <th>date</th>\n",
       "      <th>subject</th>\n",
       "      <th>speaker</th>\n",
       "      <th>speaker_description</th>\n",
       "      <th>state_info</th>\n",
       "      <th>true_counts</th>\n",
       "      <th>mostly_true_counts</th>\n",
       "      <th>half_true_counts</th>\n",
       "      <th>mostly_false_counts</th>\n",
       "      <th>false_counts</th>\n",
       "      <th>pants_on_fire_counts</th>\n",
       "      <th>context</th>\n",
       "      <th>justification</th>\n",
       "    </tr>\n",
       "  </thead>\n",
       "  <tbody>\n",
       "    <tr>\n",
       "      <th>0</th>\n",
       "      <td>13847</td>\n",
       "      <td>5</td>\n",
       "      <td>90 percent of Americans \"support universal bac...</td>\n",
       "      <td>October 2, 2017</td>\n",
       "      <td>government regulation;polls and public opinion...</td>\n",
       "      <td>chris abele</td>\n",
       "      <td>Chris Abele is Milwaukee County Executive, a p...</td>\n",
       "      <td>wisconsin</td>\n",
       "      <td>1</td>\n",
       "      <td>4</td>\n",
       "      <td>5</td>\n",
       "      <td>3</td>\n",
       "      <td>5</td>\n",
       "      <td>2</td>\n",
       "      <td>a tweet</td>\n",
       "      <td>\"Universal\" is the term for background checks ...</td>\n",
       "    </tr>\n",
       "    <tr>\n",
       "      <th>1</th>\n",
       "      <td>13411</td>\n",
       "      <td>1</td>\n",
       "      <td>Last year was one of the deadliest years ever ...</td>\n",
       "      <td>May 19, 2017</td>\n",
       "      <td>after the fact;congress;criminal justice;histo...</td>\n",
       "      <td>thom tillis</td>\n",
       "      <td>Thom Tillis is a Republican who serves as U.S....</td>\n",
       "      <td>north carolina</td>\n",
       "      <td>0</td>\n",
       "      <td>2</td>\n",
       "      <td>7</td>\n",
       "      <td>3</td>\n",
       "      <td>2</td>\n",
       "      <td>0</td>\n",
       "      <td>a press release supporting the Back The Blue A...</td>\n",
       "      <td>Sen. Thom Tillis, a North Carolina Republican,...</td>\n",
       "    </tr>\n",
       "    <tr>\n",
       "      <th>2</th>\n",
       "      <td>10882</td>\n",
       "      <td>0</td>\n",
       "      <td>Bernie Sanders's plan is \"to raise your taxes ...</td>\n",
       "      <td>October 28, 2015</td>\n",
       "      <td>taxes</td>\n",
       "      <td>chris christie</td>\n",
       "      <td>Chris Christie announced June 6, 2023 that he ...</td>\n",
       "      <td>national</td>\n",
       "      <td>21</td>\n",
       "      <td>20</td>\n",
       "      <td>27</td>\n",
       "      <td>11</td>\n",
       "      <td>17</td>\n",
       "      <td>8</td>\n",
       "      <td>Boulder, Colo</td>\n",
       "      <td>Christie said that Sanders’s plan is \"to raise...</td>\n",
       "    </tr>\n",
       "    <tr>\n",
       "      <th>3</th>\n",
       "      <td>20697</td>\n",
       "      <td>4</td>\n",
       "      <td>Voter ID is supported by an overwhelming major...</td>\n",
       "      <td>December 8, 2021</td>\n",
       "      <td>voter id laws</td>\n",
       "      <td>lee zeldin</td>\n",
       "      <td>Lee Zeldin is a Republican representing New Yo...</td>\n",
       "      <td>new york</td>\n",
       "      <td>1</td>\n",
       "      <td>2</td>\n",
       "      <td>0</td>\n",
       "      <td>0</td>\n",
       "      <td>0</td>\n",
       "      <td>0</td>\n",
       "      <td>a Tweet</td>\n",
       "      <td>Zeldin claimed voter identification requiremen...</td>\n",
       "    </tr>\n",
       "    <tr>\n",
       "      <th>4</th>\n",
       "      <td>6095</td>\n",
       "      <td>2</td>\n",
       "      <td>Says Barack Obama \"robbed Medicare (of) $716 b...</td>\n",
       "      <td>August 12, 2012</td>\n",
       "      <td>federal budget;history;medicare;retirement</td>\n",
       "      <td>mitt romney</td>\n",
       "      <td>Mitt Romney is a U.S. senator from Utah. He ra...</td>\n",
       "      <td>national</td>\n",
       "      <td>31</td>\n",
       "      <td>33</td>\n",
       "      <td>58</td>\n",
       "      <td>35</td>\n",
       "      <td>32</td>\n",
       "      <td>19</td>\n",
       "      <td>an interview on \"60 Minutes\"</td>\n",
       "      <td>Romney said, \"There's only one president that ...</td>\n",
       "    </tr>\n",
       "  </tbody>\n",
       "</table>\n",
       "</div>"
      ],
      "text/plain": [
       "      id  label                                          statement  \\\n",
       "0  13847      5  90 percent of Americans \"support universal bac...   \n",
       "1  13411      1  Last year was one of the deadliest years ever ...   \n",
       "2  10882      0  Bernie Sanders's plan is \"to raise your taxes ...   \n",
       "3  20697      4  Voter ID is supported by an overwhelming major...   \n",
       "4   6095      2  Says Barack Obama \"robbed Medicare (of) $716 b...   \n",
       "\n",
       "               date                                            subject  \\\n",
       "0   October 2, 2017  government regulation;polls and public opinion...   \n",
       "1      May 19, 2017  after the fact;congress;criminal justice;histo...   \n",
       "2  October 28, 2015                                              taxes   \n",
       "3  December 8, 2021                                      voter id laws   \n",
       "4   August 12, 2012         federal budget;history;medicare;retirement   \n",
       "\n",
       "          speaker                                speaker_description  \\\n",
       "0     chris abele  Chris Abele is Milwaukee County Executive, a p...   \n",
       "1     thom tillis  Thom Tillis is a Republican who serves as U.S....   \n",
       "2  chris christie  Chris Christie announced June 6, 2023 that he ...   \n",
       "3      lee zeldin  Lee Zeldin is a Republican representing New Yo...   \n",
       "4     mitt romney  Mitt Romney is a U.S. senator from Utah. He ra...   \n",
       "\n",
       "       state_info  true_counts  mostly_true_counts  half_true_counts  \\\n",
       "0       wisconsin            1                   4                 5   \n",
       "1  north carolina            0                   2                 7   \n",
       "2        national           21                  20                27   \n",
       "3        new york            1                   2                 0   \n",
       "4        national           31                  33                58   \n",
       "\n",
       "   mostly_false_counts  false_counts  pants_on_fire_counts  \\\n",
       "0                    3             5                     2   \n",
       "1                    3             2                     0   \n",
       "2                   11            17                     8   \n",
       "3                    0             0                     0   \n",
       "4                   35            32                    19   \n",
       "\n",
       "                                             context  \\\n",
       "0                                            a tweet   \n",
       "1  a press release supporting the Back The Blue A...   \n",
       "2                                      Boulder, Colo   \n",
       "3                                            a Tweet   \n",
       "4                       an interview on \"60 Minutes\"   \n",
       "\n",
       "                                       justification  \n",
       "0  \"Universal\" is the term for background checks ...  \n",
       "1  Sen. Thom Tillis, a North Carolina Republican,...  \n",
       "2  Christie said that Sanders’s plan is \"to raise...  \n",
       "3  Zeldin claimed voter identification requiremen...  \n",
       "4  Romney said, \"There's only one president that ...  "
      ]
     },
     "execution_count": 2,
     "metadata": {},
     "output_type": "execute_result"
    }
   ],
   "source": [
    "import pandas as pd\n",
    "\n",
    "# Load datasets\n",
    "train_df = pd.read_csv(\"../data/processed/liar2_train.csv\")\n",
    "val_df = pd.read_csv(\"../data/processed/liar2_val.csv\")\n",
    "test_df = pd.read_csv(\"../data/processed/liar2_test.csv\")\n",
    "\n",
    "# Quick look\n",
    "print(train_df.shape)\n",
    "train_df.head()\n"
   ]
  },
  {
   "cell_type": "code",
   "execution_count": 3,
   "id": "a1234d49",
   "metadata": {},
   "outputs": [
    {
     "data": {
      "text/plain": [
       "Index(['id', 'label', 'statement', 'date', 'subject', 'speaker',\n",
       "       'speaker_description', 'state_info', 'true_counts',\n",
       "       'mostly_true_counts', 'half_true_counts', 'mostly_false_counts',\n",
       "       'false_counts', 'pants_on_fire_counts', 'context', 'justification'],\n",
       "      dtype='object')"
      ]
     },
     "execution_count": 3,
     "metadata": {},
     "output_type": "execute_result"
    }
   ],
   "source": [
    "train_df.columns\n"
   ]
  },
  {
   "cell_type": "code",
   "execution_count": 4,
   "id": "f016a639",
   "metadata": {},
   "outputs": [
    {
     "data": {
      "text/plain": [
       "label\n",
       "0    2425\n",
       "1    5284\n",
       "2    2882\n",
       "3    2967\n",
       "4    2743\n",
       "5    2068\n",
       "Name: count, dtype: int64"
      ]
     },
     "execution_count": 4,
     "metadata": {},
     "output_type": "execute_result"
    }
   ],
   "source": [
    "train_df[\"label\"].value_counts().sort_index()\n"
   ]
  },
  {
   "cell_type": "code",
   "execution_count": 5,
   "id": "1eb3998e",
   "metadata": {},
   "outputs": [
    {
     "data": {
      "text/html": [
       "<div>\n",
       "<style scoped>\n",
       "    .dataframe tbody tr th:only-of-type {\n",
       "        vertical-align: middle;\n",
       "    }\n",
       "\n",
       "    .dataframe tbody tr th {\n",
       "        vertical-align: top;\n",
       "    }\n",
       "\n",
       "    .dataframe thead th {\n",
       "        text-align: right;\n",
       "    }\n",
       "</style>\n",
       "<table border=\"1\" class=\"dataframe\">\n",
       "  <thead>\n",
       "    <tr style=\"text-align: right;\">\n",
       "      <th></th>\n",
       "      <th>statement</th>\n",
       "      <th>label_str</th>\n",
       "    </tr>\n",
       "  </thead>\n",
       "  <tbody>\n",
       "    <tr>\n",
       "      <th>0</th>\n",
       "      <td>90 percent of Americans \"support universal bac...</td>\n",
       "      <td>true</td>\n",
       "    </tr>\n",
       "    <tr>\n",
       "      <th>1</th>\n",
       "      <td>Last year was one of the deadliest years ever ...</td>\n",
       "      <td>false</td>\n",
       "    </tr>\n",
       "    <tr>\n",
       "      <th>2</th>\n",
       "      <td>Bernie Sanders's plan is \"to raise your taxes ...</td>\n",
       "      <td>pants_on_fire</td>\n",
       "    </tr>\n",
       "    <tr>\n",
       "      <th>3</th>\n",
       "      <td>Voter ID is supported by an overwhelming major...</td>\n",
       "      <td>mostly_true</td>\n",
       "    </tr>\n",
       "    <tr>\n",
       "      <th>4</th>\n",
       "      <td>Says Barack Obama \"robbed Medicare (of) $716 b...</td>\n",
       "      <td>barely_true</td>\n",
       "    </tr>\n",
       "  </tbody>\n",
       "</table>\n",
       "</div>"
      ],
      "text/plain": [
       "                                           statement      label_str\n",
       "0  90 percent of Americans \"support universal bac...           true\n",
       "1  Last year was one of the deadliest years ever ...          false\n",
       "2  Bernie Sanders's plan is \"to raise your taxes ...  pants_on_fire\n",
       "3  Voter ID is supported by an overwhelming major...    mostly_true\n",
       "4  Says Barack Obama \"robbed Medicare (of) $716 b...    barely_true"
      ]
     },
     "execution_count": 5,
     "metadata": {},
     "output_type": "execute_result"
    }
   ],
   "source": [
    "label_map = {\n",
    "    0: \"pants_on_fire\",\n",
    "    1: \"false\",\n",
    "    2: \"barely_true\",\n",
    "    3: \"half_true\",\n",
    "    4: \"mostly_true\",\n",
    "    5: \"true\"\n",
    "}\n",
    "train_df[\"label_str\"] = train_df[\"label\"].map(label_map)\n",
    "train_df[[\"statement\", \"label_str\"]].head()\n"
   ]
  },
  {
   "cell_type": "code",
   "execution_count": 6,
   "id": "73187555",
   "metadata": {},
   "outputs": [
    {
     "data": {
      "text/html": [
       "<div>\n",
       "<style scoped>\n",
       "    .dataframe tbody tr th:only-of-type {\n",
       "        vertical-align: middle;\n",
       "    }\n",
       "\n",
       "    .dataframe tbody tr th {\n",
       "        vertical-align: top;\n",
       "    }\n",
       "\n",
       "    .dataframe thead th {\n",
       "        text-align: right;\n",
       "    }\n",
       "</style>\n",
       "<table border=\"1\" class=\"dataframe\">\n",
       "  <thead>\n",
       "    <tr style=\"text-align: right;\">\n",
       "      <th></th>\n",
       "      <th>statement</th>\n",
       "      <th>clean_statement</th>\n",
       "    </tr>\n",
       "  </thead>\n",
       "  <tbody>\n",
       "    <tr>\n",
       "      <th>0</th>\n",
       "      <td>90 percent of Americans \"support universal bac...</td>\n",
       "      <td>90 percent of americans support universal back...</td>\n",
       "    </tr>\n",
       "    <tr>\n",
       "      <th>1</th>\n",
       "      <td>Last year was one of the deadliest years ever ...</td>\n",
       "      <td>last year was one of the deadliest years ever ...</td>\n",
       "    </tr>\n",
       "    <tr>\n",
       "      <th>2</th>\n",
       "      <td>Bernie Sanders's plan is \"to raise your taxes ...</td>\n",
       "      <td>bernie sanderss plan is to raise your taxes to...</td>\n",
       "    </tr>\n",
       "    <tr>\n",
       "      <th>3</th>\n",
       "      <td>Voter ID is supported by an overwhelming major...</td>\n",
       "      <td>voter id is supported by an overwhelming major...</td>\n",
       "    </tr>\n",
       "    <tr>\n",
       "      <th>4</th>\n",
       "      <td>Says Barack Obama \"robbed Medicare (of) $716 b...</td>\n",
       "      <td>says barack obama robbed medicare of 716 billi...</td>\n",
       "    </tr>\n",
       "  </tbody>\n",
       "</table>\n",
       "</div>"
      ],
      "text/plain": [
       "                                           statement  \\\n",
       "0  90 percent of Americans \"support universal bac...   \n",
       "1  Last year was one of the deadliest years ever ...   \n",
       "2  Bernie Sanders's plan is \"to raise your taxes ...   \n",
       "3  Voter ID is supported by an overwhelming major...   \n",
       "4  Says Barack Obama \"robbed Medicare (of) $716 b...   \n",
       "\n",
       "                                     clean_statement  \n",
       "0  90 percent of americans support universal back...  \n",
       "1  last year was one of the deadliest years ever ...  \n",
       "2  bernie sanderss plan is to raise your taxes to...  \n",
       "3  voter id is supported by an overwhelming major...  \n",
       "4  says barack obama robbed medicare of 716 billi...  "
      ]
     },
     "execution_count": 6,
     "metadata": {},
     "output_type": "execute_result"
    }
   ],
   "source": [
    "import re\n",
    "\n",
    "def clean_text(text):\n",
    "    text = text.lower()\n",
    "    text = re.sub(r\"[^a-z0-9\\s]\", \"\", text)\n",
    "    return text\n",
    "\n",
    "train_df[\"clean_statement\"] = train_df[\"statement\"].apply(clean_text)\n",
    "train_df[[\"statement\", \"clean_statement\"]].head()\n"
   ]
  },
  {
   "cell_type": "markdown",
   "id": "e3b97616",
   "metadata": {},
   "source": [
    "___\n",
    "Step 2: Tokenize and Vocabulary building"
   ]
  },
  {
   "cell_type": "code",
   "execution_count": 7,
   "id": "efd4a1d5",
   "metadata": {},
   "outputs": [
    {
     "data": {
      "text/plain": [
       "0    [90, percent, of, americans, support, universa...\n",
       "1    [last, year, was, one, of, the, deadliest, yea...\n",
       "2    [bernie, sanderss, plan, is, to, raise, your, ...\n",
       "3    [voter, id, is, supported, by, an, overwhelmin...\n",
       "4    [says, barack, obama, robbed, medicare, of, 71...\n",
       "Name: tokens, dtype: object"
      ]
     },
     "execution_count": 7,
     "metadata": {},
     "output_type": "execute_result"
    }
   ],
   "source": [
    "train_df[\"tokens\"] = train_df[\"clean_statement\"].apply(lambda x: x.split())\n",
    "train_df[\"tokens\"].head()\n"
   ]
  },
  {
   "cell_type": "code",
   "execution_count": 8,
   "id": "c4669ed7",
   "metadata": {},
   "outputs": [
    {
     "data": {
      "text/plain": [
       "19061"
      ]
     },
     "execution_count": 8,
     "metadata": {},
     "output_type": "execute_result"
    }
   ],
   "source": [
    "from collections import Counter\n",
    "\n",
    "# Flatten all tokens into one big list\n",
    "all_tokens = [token for tokens in train_df[\"tokens\"] for token in tokens]\n",
    "\n",
    "# Count token frequencies\n",
    "token_counts = Counter(all_tokens)\n",
    "\n",
    "# Create vocab with special tokens\n",
    "vocab = {\"<PAD>\": 0, \"<UNK>\": 1}\n",
    "for i, (token, _) in enumerate(token_counts.items(), start=2):\n",
    "    vocab[token] = i\n",
    "\n",
    "# Check vocab size\n",
    "len(vocab)\n"
   ]
  },
  {
   "cell_type": "code",
   "execution_count": 9,
   "id": "20243cc0",
   "metadata": {},
   "outputs": [
    {
     "data": {
      "text/html": [
       "<div>\n",
       "<style scoped>\n",
       "    .dataframe tbody tr th:only-of-type {\n",
       "        vertical-align: middle;\n",
       "    }\n",
       "\n",
       "    .dataframe tbody tr th {\n",
       "        vertical-align: top;\n",
       "    }\n",
       "\n",
       "    .dataframe thead th {\n",
       "        text-align: right;\n",
       "    }\n",
       "</style>\n",
       "<table border=\"1\" class=\"dataframe\">\n",
       "  <thead>\n",
       "    <tr style=\"text-align: right;\">\n",
       "      <th></th>\n",
       "      <th>tokens</th>\n",
       "      <th>input_ids</th>\n",
       "    </tr>\n",
       "  </thead>\n",
       "  <tbody>\n",
       "    <tr>\n",
       "      <th>0</th>\n",
       "      <td>[90, percent, of, americans, support, universa...</td>\n",
       "      <td>[2, 3, 4, 5, 6, 7, 8, 9, 10, 11, 12]</td>\n",
       "    </tr>\n",
       "    <tr>\n",
       "      <th>1</th>\n",
       "      <td>[last, year, was, one, of, the, deadliest, yea...</td>\n",
       "      <td>[13, 14, 15, 16, 4, 17, 18, 19, 20, 10, 21, 22...</td>\n",
       "    </tr>\n",
       "    <tr>\n",
       "      <th>2</th>\n",
       "      <td>[bernie, sanderss, plan, is, to, raise, your, ...</td>\n",
       "      <td>[24, 25, 26, 27, 28, 29, 30, 31, 28, 2, 3]</td>\n",
       "    </tr>\n",
       "    <tr>\n",
       "      <th>3</th>\n",
       "      <td>[voter, id, is, supported, by, an, overwhelmin...</td>\n",
       "      <td>[32, 33, 27, 34, 35, 36, 37, 38, 4, 39, 40, 41...</td>\n",
       "    </tr>\n",
       "    <tr>\n",
       "      <th>4</th>\n",
       "      <td>[says, barack, obama, robbed, medicare, of, 71...</td>\n",
       "      <td>[48, 49, 50, 51, 52, 4, 53, 54, 28, 55, 10, 56]</td>\n",
       "    </tr>\n",
       "  </tbody>\n",
       "</table>\n",
       "</div>"
      ],
      "text/plain": [
       "                                              tokens  \\\n",
       "0  [90, percent, of, americans, support, universa...   \n",
       "1  [last, year, was, one, of, the, deadliest, yea...   \n",
       "2  [bernie, sanderss, plan, is, to, raise, your, ...   \n",
       "3  [voter, id, is, supported, by, an, overwhelmin...   \n",
       "4  [says, barack, obama, robbed, medicare, of, 71...   \n",
       "\n",
       "                                           input_ids  \n",
       "0               [2, 3, 4, 5, 6, 7, 8, 9, 10, 11, 12]  \n",
       "1  [13, 14, 15, 16, 4, 17, 18, 19, 20, 10, 21, 22...  \n",
       "2         [24, 25, 26, 27, 28, 29, 30, 31, 28, 2, 3]  \n",
       "3  [32, 33, 27, 34, 35, 36, 37, 38, 4, 39, 40, 41...  \n",
       "4    [48, 49, 50, 51, 52, 4, 53, 54, 28, 55, 10, 56]  "
      ]
     },
     "execution_count": 9,
     "metadata": {},
     "output_type": "execute_result"
    }
   ],
   "source": [
    "def encode_tokens(tokens, vocab):\n",
    "    return [vocab.get(token, vocab[\"<UNK>\"]) for token in tokens]\n",
    "\n",
    "train_df[\"input_ids\"] = train_df[\"tokens\"].apply(lambda tokens: encode_tokens(tokens, vocab))\n",
    "train_df[[\"tokens\", \"input_ids\"]].head()\n"
   ]
  },
  {
   "cell_type": "code",
   "execution_count": 10,
   "id": "24d275d1",
   "metadata": {},
   "outputs": [],
   "source": [
    "import numpy as np\n",
    "\n",
    "MAX_LEN = 30\n",
    "\n",
    "def pad_sequence(seq, max_len):\n",
    "    if len(seq) < max_len:\n",
    "        return seq + [vocab[\"<PAD>\"]] * (max_len - len(seq))\n",
    "    else:\n",
    "        return seq[:max_len]\n",
    "\n",
    "train_df[\"padded_ids\"] = train_df[\"input_ids\"].apply(lambda x: pad_sequence(x, MAX_LEN))\n"
   ]
  },
  {
   "cell_type": "code",
   "execution_count": 11,
   "id": "6c99fd3f",
   "metadata": {},
   "outputs": [
    {
     "name": "stdout",
     "output_type": "stream",
     "text": [
      "[2, 3, 4, 5, 6, 7, 8, 9, 10, 11, 12, 0, 0, 0, 0, 0, 0, 0, 0, 0, 0, 0, 0, 0, 0, 0, 0, 0, 0, 0]\n",
      "30\n"
     ]
    }
   ],
   "source": [
    "print(train_df[\"padded_ids\"].iloc[0])\n",
    "print(len(train_df[\"padded_ids\"].iloc[0]))  # should be 30\n"
   ]
  },
  {
   "cell_type": "markdown",
   "id": "daaa4e6f",
   "metadata": {},
   "source": [
    "___\n",
    "Step 3"
   ]
  },
  {
   "cell_type": "code",
   "execution_count": 13,
   "id": "21ddf530",
   "metadata": {},
   "outputs": [],
   "source": [
    "import torch\n",
    "from torch.utils.data import Dataset\n",
    "\n",
    "class Liar2Dataset(Dataset):\n",
    "    def __init__(self, inputs, labels):\n",
    "        self.inputs = inputs\n",
    "        self.labels = labels\n",
    "\n",
    "    def __len__(self):\n",
    "        return len(self.inputs)\n",
    "\n",
    "    def __getitem__(self, idx):\n",
    "        input_tensor = torch.tensor(self.inputs[idx], dtype=torch.long)\n",
    "        label_tensor = torch.tensor(self.labels[idx], dtype=torch.long)\n",
    "        return input_tensor, label_tensor\n"
   ]
  },
  {
   "cell_type": "code",
   "execution_count": 14,
   "id": "8491992b",
   "metadata": {},
   "outputs": [],
   "source": [
    "from torch.utils.data import DataLoader\n",
    "\n",
    "# Use padded_ids and label\n",
    "train_dataset = Liar2Dataset(train_df[\"padded_ids\"].tolist(), train_df[\"label\"].tolist())\n",
    "\n",
    "train_loader = DataLoader(train_dataset, batch_size=32, shuffle=True)\n"
   ]
  },
  {
   "cell_type": "code",
   "execution_count": 15,
   "id": "acfe840b",
   "metadata": {},
   "outputs": [
    {
     "name": "stdout",
     "output_type": "stream",
     "text": [
      "Batch inputs shape: torch.Size([32, 30])\n",
      "Batch labels shape: torch.Size([32])\n"
     ]
    }
   ],
   "source": [
    "for batch_inputs, batch_labels in train_loader:\n",
    "    print(\"Batch inputs shape:\", batch_inputs.shape)\n",
    "    print(\"Batch labels shape:\", batch_labels.shape)\n",
    "    break\n"
   ]
  },
  {
   "cell_type": "markdown",
   "id": "95ddb8bf",
   "metadata": {},
   "source": [
    "___\n",
    "Step 4\n"
   ]
  }
 ],
 "metadata": {
  "kernelspec": {
   "display_name": "venv",
   "language": "python",
   "name": "python3"
  },
  "language_info": {
   "codemirror_mode": {
    "name": "ipython",
    "version": 3
   },
   "file_extension": ".py",
   "mimetype": "text/x-python",
   "name": "python",
   "nbconvert_exporter": "python",
   "pygments_lexer": "ipython3",
   "version": "3.10.6"
  }
 },
 "nbformat": 4,
 "nbformat_minor": 5
}
