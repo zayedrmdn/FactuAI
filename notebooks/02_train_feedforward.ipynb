{
 "cells": [
  {
   "cell_type": "code",
   "execution_count": 3,
   "id": "cf14e77f",
   "metadata": {},
   "outputs": [],
   "source": [
    "import pandas as pd\n",
    "import torch\n",
    "import torch.nn as nn\n",
    "import torch.optim as optim\n",
    "from torch.utils.data import Dataset, DataLoader\n",
    "from tqdm import tqdm\n",
    "import numpy as np\n",
    "from collections import Counter\n",
    "\n",
    "train_df = pd.read_csv(\"../data/processed/liar2_train.csv\")\n",
    "\n",
    "train_df[\"clean_statement\"] = train_df[\"statement\"].str.lower().str.replace(r\"[^\\w\\s]\", \"\", regex=True)\n",
    "train_df[\"tokens\"] = train_df[\"clean_statement\"].apply(lambda x: x.split())\n",
    "\n",
    "all_tokens = [token for tokens in train_df[\"tokens\"] for token in tokens]\n",
    "token_counts = Counter(all_tokens)\n",
    "\n",
    "vocab = {\"<PAD>\": 0, \"<UNK>\": 1}\n",
    "for i, (token, _) in enumerate(token_counts.items(), start=2):\n",
    "    vocab[token] = i\n"
   ]
  },
  {
   "cell_type": "code",
   "execution_count": 4,
   "id": "a0999980",
   "metadata": {},
   "outputs": [],
   "source": [
    "vocab_size   = len(vocab)\n",
    "pad_idx      = vocab[\"<PAD>\"]\n"
   ]
  },
  {
   "cell_type": "code",
   "execution_count": null,
   "id": "c990b939",
   "metadata": {},
   "outputs": [],
   "source": [
    "hidden_dim = 128"
   ]
  },
  {
   "cell_type": "code",
   "execution_count": 6,
   "id": "22ebeb1d",
   "metadata": {},
   "outputs": [],
   "source": [
    "import torch\n",
    "import torch.nn as nn\n",
    "\n",
    "class FakeNewsClassifier(nn.Module):\n",
    "    def __init__(self, vocab_size, embedding_dim, hidden_dim, output_dim, pad_idx):\n",
    "        super(FakeNewsClassifier, self).__init__()\n",
    "        self.embedding = nn.Embedding(vocab_size, embedding_dim, padding_idx=pad_idx)\n",
    "        self.lstm = nn.LSTM(embedding_dim, hidden_dim, batch_first=True)\n",
    "        self.fc = nn.Linear(hidden_dim, output_dim)\n",
    "    \n",
    "    def forward(self, x):\n",
    "        embedded = self.embedding(x)\n",
    "        _, (hidden, _) = self.lstm(embedded)\n",
    "        output = self.fc(hidden[-1])\n",
    "        return output\n"
   ]
  },
  {
   "cell_type": "code",
   "execution_count": 7,
   "id": "1e68c2c2",
   "metadata": {},
   "outputs": [],
   "source": [
    "vocab_size = len(vocab)\n",
    "embedding_dim = 100\n",
    "hidden_dim = 1281\n",
    "output_dim = 6  # 6 classes (0 to 5)\n",
    "pad_idx = vocab[\"<PAD>\"]\n",
    "\n",
    "model = FakeNewsClassifier(vocab_size, embedding_dim, hidden_dim, output_dim, pad_idx)\n"
   ]
  },
  {
   "cell_type": "code",
   "execution_count": 8,
   "id": "07d43290",
   "metadata": {},
   "outputs": [],
   "source": [
    "import torch.optim as optim\n",
    "\n",
    "criterion = nn.CrossEntropyLoss()\n",
    "optimizer = optim.Adam(model.parameters(), lr=0.001)\n"
   ]
  },
  {
   "cell_type": "code",
   "execution_count": 11,
   "id": "ef7e21b6",
   "metadata": {},
   "outputs": [],
   "source": [
    "class Liar2Dataset(Dataset):\n",
    "    def __init__(self, inputs, labels):\n",
    "        self.inputs = inputs\n",
    "        self.labels = labels\n",
    "\n",
    "    def __len__(self):\n",
    "        return len(self.inputs)\n",
    "\n",
    "    def __getitem__(self, idx):\n",
    "        input_tensor = torch.tensor(self.inputs[idx], dtype=torch.long)\n",
    "        label_tensor = torch.tensor(self.labels[idx], dtype=torch.long)\n",
    "        return input_tensor, label_tensor\n",
    "\n",
    "# Pad the encoded inputs\n",
    "MAX_LEN = 30\n",
    "def pad_sequence(seq, max_len):\n",
    "    if len(seq) < max_len:\n",
    "        return seq + [vocab[\"<PAD>\"]] * (max_len - len(seq))\n",
    "    else:\n",
    "        return seq[:max_len]\n",
    "\n",
    "train_df[\"input_ids\"] = train_df[\"tokens\"].apply(lambda tokens: [vocab.get(token, vocab[\"<UNK>\"]) for token in tokens])\n",
    "train_df[\"padded_ids\"] = train_df[\"input_ids\"].apply(lambda x: pad_sequence(x, MAX_LEN))\n",
    "\n",
    "# Create Dataset and DataLoader\n",
    "train_dataset = Liar2Dataset(train_df[\"padded_ids\"].tolist(), train_df[\"label\"].tolist())\n",
    "train_loader = DataLoader(train_dataset, batch_size=32, shuffle=True)\n"
   ]
  },
  {
   "cell_type": "code",
   "execution_count": 12,
   "id": "ed75a040",
   "metadata": {},
   "outputs": [
    {
     "name": "stderr",
     "output_type": "stream",
     "text": [
      "100%|██████████| 575/575 [02:12<00:00,  4.33it/s]\n"
     ]
    },
    {
     "name": "stdout",
     "output_type": "stream",
     "text": [
      "Epoch 1/5 - Loss: 1006.8689 - Accuracy: 0.2874\n"
     ]
    },
    {
     "name": "stderr",
     "output_type": "stream",
     "text": [
      "100%|██████████| 575/575 [02:13<00:00,  4.30it/s]\n"
     ]
    },
    {
     "name": "stdout",
     "output_type": "stream",
     "text": [
      "Epoch 2/5 - Loss: 1009.2454 - Accuracy: 0.2926\n"
     ]
    },
    {
     "name": "stderr",
     "output_type": "stream",
     "text": [
      "100%|██████████| 575/575 [02:22<00:00,  4.03it/s]\n"
     ]
    },
    {
     "name": "stdout",
     "output_type": "stream",
     "text": [
      "Epoch 3/5 - Loss: 938.6860 - Accuracy: 0.3159\n"
     ]
    },
    {
     "name": "stderr",
     "output_type": "stream",
     "text": [
      "100%|██████████| 575/575 [01:51<00:00,  5.14it/s]\n"
     ]
    },
    {
     "name": "stdout",
     "output_type": "stream",
     "text": [
      "Epoch 4/5 - Loss: 896.1878 - Accuracy: 0.3413\n"
     ]
    },
    {
     "name": "stderr",
     "output_type": "stream",
     "text": [
      "100%|██████████| 575/575 [02:04<00:00,  4.60it/s]"
     ]
    },
    {
     "name": "stdout",
     "output_type": "stream",
     "text": [
      "Epoch 5/5 - Loss: 856.0284 - Accuracy: 0.3626\n"
     ]
    },
    {
     "name": "stderr",
     "output_type": "stream",
     "text": [
      "\n"
     ]
    }
   ],
   "source": [
    "from tqdm import tqdm\n",
    "\n",
    "EPOCHS = 5  # You can change this later\n",
    "model.train()\n",
    "\n",
    "for epoch in range(EPOCHS):\n",
    "    epoch_loss = 0\n",
    "    correct = 0\n",
    "    total = 0\n",
    "    \n",
    "    for batch_inputs, batch_labels in tqdm(train_loader):\n",
    "        optimizer.zero_grad()\n",
    "        outputs = model(batch_inputs)\n",
    "        loss = criterion(outputs, batch_labels)\n",
    "        loss.backward()\n",
    "        optimizer.step()\n",
    "\n",
    "        epoch_loss += loss.item()\n",
    "        _, predicted = torch.max(outputs, 1)\n",
    "        correct += (predicted == batch_labels).sum().item()\n",
    "        total += batch_labels.size(0)\n",
    "    \n",
    "    acc = correct / total\n",
    "    print(f\"Epoch {epoch+1}/{EPOCHS} - Loss: {epoch_loss:.4f} - Accuracy: {acc:.4f}\")\n"
   ]
  }
 ],
 "metadata": {
  "kernelspec": {
   "display_name": "venv",
   "language": "python",
   "name": "python3"
  },
  "language_info": {
   "codemirror_mode": {
    "name": "ipython",
    "version": 3
   },
   "file_extension": ".py",
   "mimetype": "text/x-python",
   "name": "python",
   "nbconvert_exporter": "python",
   "pygments_lexer": "ipython3",
   "version": "3.10.6"
  }
 },
 "nbformat": 4,
 "nbformat_minor": 5
}
